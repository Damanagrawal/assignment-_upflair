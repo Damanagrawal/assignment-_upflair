{
 "cells": [
  {
   "cell_type": "code",
   "execution_count": 35,
   "id": "b76a70a1-2458-452c-ac4d-b0d87eb57698",
   "metadata": {},
   "outputs": [
    {
     "name": "stdin",
     "output_type": "stream",
     "text": [
      "enter your string : kanal\n"
     ]
    },
    {
     "name": "stdout",
     "output_type": "stream",
     "text": [
      "false\n"
     ]
    }
   ],
   "source": [
    "# sring is palindrom or not\n",
    "s = input(\"enter your string :\")\n",
    "i = 0\n",
    "flag = 1\n",
    "for i in range (len(s)):\n",
    "    if s[i] !=  s[-1-i]:\n",
    "        flag = 0\n",
    "        break\n",
    "        \n",
    "        \n",
    "            \n",
    "if flag == 1:\n",
    "    print(\"True\")\n",
    "else:\n",
    "    print(\"false\")\n",
    "    "
   ]
  },
  {
   "cell_type": "code",
   "execution_count": 4,
   "id": "54c3961a-4a8d-4ceb-9ce8-b2b984fae41b",
   "metadata": {},
   "outputs": [
    {
     "name": "stdin",
     "output_type": "stream",
     "text": [
      "enter nomber 1 : 1\n",
      "enter number 2 : 2\n"
     ]
    },
    {
     "name": "stdout",
     "output_type": "stream",
     "text": [
      " enter add for addition\n",
      " enter sub for subtraction \n",
      " enter mul for multiplication\n",
      " enter div for division\n"
     ]
    },
    {
     "name": "stdin",
     "output_type": "stream",
     "text": [
      "enter choice add\n"
     ]
    },
    {
     "name": "stdout",
     "output_type": "stream",
     "text": [
      "addition is : 3.0\n"
     ]
    }
   ],
   "source": [
    "num1 = float(input(\"enter nomber 1 :\"))\n",
    "num2 = float(input(\"enter number 2 :\"))\n",
    "var = \"\"\" enter add for addition\n",
    " enter sub for subtraction \n",
    " enter mul for multiplication\n",
    " enter div for division\"\"\"\n",
    "print(var)\n",
    "oper = input(\"enter choice\")\n",
    "if oper == \"add\":\n",
    "    print(\"addition is :\", num1 + num2)\n",
    "elif oper ==\"sub\":\n",
    "    print(\" subtraction is :\",num1 - num1)\n",
    "elif oper == \"mul\":\n",
    "    print(\"multiplication is \",num1*num2)\n",
    "elif oper == \"div\":\n",
    "    print(\"division is : \",num1/num2)\n",
    "else:\n",
    "    print(\"invalid choice\")\n",
    "\n"
   ]
  },
  {
   "cell_type": "code",
   "execution_count": 1,
   "id": "a6148f3e-0b5d-4b00-a059-f99f0953c4a2",
   "metadata": {},
   "outputs": [
    {
     "name": "stdin",
     "output_type": "stream",
     "text": [
      "enter your string uplfairs pvt Lts\n"
     ]
    },
    {
     "name": "stdout",
     "output_type": "stream",
     "text": [
      "u  -->  1\n",
      "p  -->  2\n",
      "l  -->  3\n",
      "f  -->  4\n",
      "a  -->  5\n",
      "i  -->  6\n",
      "r  -->  7\n",
      "s  -->  8\n",
      "   -->  9\n",
      "p  -->  10\n",
      "v  -->  11\n",
      "t  -->  12\n",
      "   -->  13\n",
      "L  -->  14\n",
      "t  -->  15\n",
      "s  -->  16\n"
     ]
    }
   ],
   "source": [
    "S = input(\"enter your string\")\n",
    "for i in range(len(S)):\n",
    "    print(S[i] ,\" --> \", i+1)\n",
    "    \n",
    "    \n",
    "\n",
    "\n"
   ]
  },
  {
   "cell_type": "code",
   "execution_count": 4,
   "id": "0caa4a67-1781-4883-b515-f485c9a21a4d",
   "metadata": {},
   "outputs": [
    {
     "name": "stdin",
     "output_type": "stream",
     "text": [
      "input no of star line 5\n"
     ]
    },
    {
     "name": "stdout",
     "output_type": "stream",
     "text": [
      "* \n",
      "* * \n",
      "* * * \n",
      "* * * * \n",
      "* * * * * \n"
     ]
    }
   ],
   "source": [
    "n = int(input(\"input no of star line\"))\n",
    "for i in range(1,n+1):\n",
    "    for j in range(1, i+1):\n",
    "        print(\"*\", end = \" \")\n",
    "    print()"
   ]
  },
  {
   "cell_type": "code",
   "execution_count": 6,
   "id": "b5b4beb3-bb5a-4651-a20c-8ec47c72201c",
   "metadata": {},
   "outputs": [
    {
     "name": "stdin",
     "output_type": "stream",
     "text": [
      "enter a number 5\n"
     ]
    },
    {
     "name": "stdout",
     "output_type": "stream",
     "text": [
      "5  x  1 =  5\n",
      "5  x  2 =  10\n",
      "5  x  3 =  15\n",
      "5  x  4 =  20\n",
      "5  x  5 =  25\n",
      "5  x  6 =  30\n",
      "5  x  7 =  35\n",
      "5  x  8 =  40\n",
      "5  x  9 =  45\n",
      "5  x  10 =  50\n"
     ]
    }
   ],
   "source": [
    "n = int(input(\"enter a number\"))\n",
    "for i in range(1,11):\n",
    "    print(n , \" x \", i, \"= \", n*i) "
   ]
  },
  {
   "cell_type": "code",
   "execution_count": null,
   "id": "9b98f162-db1d-4847-aa29-45c6a4df5d24",
   "metadata": {},
   "outputs": [],
   "source": []
  }
 ],
 "metadata": {
  "kernelspec": {
   "display_name": "Python 3 (ipykernel)",
   "language": "python",
   "name": "python3"
  },
  "language_info": {
   "codemirror_mode": {
    "name": "ipython",
    "version": 3
   },
   "file_extension": ".py",
   "mimetype": "text/x-python",
   "name": "python",
   "nbconvert_exporter": "python",
   "pygments_lexer": "ipython3",
   "version": "3.12.3"
  }
 },
 "nbformat": 4,
 "nbformat_minor": 5
}
